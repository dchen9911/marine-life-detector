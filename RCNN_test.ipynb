{
 "cells": [
  {
   "cell_type": "code",
   "execution_count": 8,
   "metadata": {
    "tags": []
   },
   "outputs": [],
   "source": [
    "%matplotlib inline\n",
    "\n",
    "from consts import *\n",
    "import os,cv2\n",
    "import pandas as pd\n",
    "import matplotlib.pyplot as plt\n",
    "import numpy as np\n",
    "from matplotlib.patches import Polygon, Rectangle\n",
    "from PIL import Image\n",
    "from keras.models import Model\n",
    "from joblib import dump, load\n",
    "\n",
    "dest_dir = base_path + 'images/rcnn_test/'\n",
    "\n"
   ]
  },
  {
   "cell_type": "code",
   "execution_count": 10,
   "metadata": {
    "tags": []
   },
   "outputs": [
    {
     "name": "stdout",
     "output_type": "stream",
     "text": [
      "Model: \"model_1\"\n",
      "_________________________________________________________________\n",
      "Layer (type)                 Output Shape              Param #   \n",
      "=================================================================\n",
      "conv2d_input (InputLayer)    [(None, 100, 100, 3)]     0         \n",
      "_________________________________________________________________\n",
      "conv2d (Conv2D)              (None, 98, 98, 16)        448       \n",
      "_________________________________________________________________\n",
      "max_pooling2d (MaxPooling2D) (None, 49, 49, 16)        0         \n",
      "_________________________________________________________________\n",
      "conv2d_1 (Conv2D)            (None, 47, 47, 32)        4640      \n",
      "_________________________________________________________________\n",
      "max_pooling2d_1 (MaxPooling2 (None, 23, 23, 32)        0         \n",
      "_________________________________________________________________\n",
      "conv2d_2 (Conv2D)            (None, 21, 21, 64)        18496     \n",
      "_________________________________________________________________\n",
      "dropout (Dropout)            (None, 21, 21, 64)        0         \n",
      "_________________________________________________________________\n",
      "conv2d_3 (Conv2D)            (None, 19, 19, 64)        36928     \n",
      "_________________________________________________________________\n",
      "max_pooling2d_2 (MaxPooling2 (None, 9, 9, 64)          0         \n",
      "_________________________________________________________________\n",
      "dropout_1 (Dropout)          (None, 9, 9, 64)          0         \n",
      "_________________________________________________________________\n",
      "flatten (Flatten)            (None, 5184)              0         \n",
      "_________________________________________________________________\n",
      "dense (Dense)                (None, 512)               2654720   \n",
      "_________________________________________________________________\n",
      "dropout_2 (Dropout)          (None, 512)               0         \n",
      "_________________________________________________________________\n",
      "dense_1 (Dense)              (None, 512)               262656    \n",
      "=================================================================\n",
      "Total params: 2,977,888\n",
      "Trainable params: 2,977,888\n",
      "Non-trainable params: 0\n",
      "_________________________________________________________________\n"
     ]
    }
   ],
   "source": [
    "# load up the CNN weights\n",
    "weights_dir = base_path + 'weights/'\n",
    "\n",
    "from CNN_model import model\n",
    "\n",
    "model.load_weights(weights_dir + 'cnn_' + str(CLASS_ID) + '.h5')\n",
    "intermed_model = Model(inputs=model.input,\n",
    "                   outputs=model.layers[-2].output)\n",
    "intermed_model.summary()\n"
   ]
  },
  {
   "cell_type": "code",
   "execution_count": 11,
   "metadata": {},
   "outputs": [],
   "source": [
    "# loading up the SVM\n",
    "clf = load(svm_weights_path) "
   ]
  },
  {
   "cell_type": "code",
   "execution_count": null,
   "metadata": {},
   "outputs": [],
   "source": [
    "img_path = base_path + 'images/test14.jpg'\n",
    "# run selective search\n",
    "image = cv2.imread(img_path)[...,::-1] # switch to rgb\n",
    "\n",
    "# initialise selective search\n",
    "ss = cv2.ximgproc.segmentation.createSelectiveSearchSegmentation()\n",
    "\n",
    "ss.setBaseImage(image)\n",
    "ss.switchToSelectiveSearchFast()\n",
    "ssresults = ss.process()\n",
    "print(len(ssresults))"
   ]
  },
  {
   "cell_type": "code",
   "execution_count": null,
   "metadata": {},
   "outputs": [],
   "source": [
    "if not os.path.exists(dest_dir):\n",
    "    os.mkdir(dest_dir)\n",
    "\n",
    "imout = image.copy()\n",
    "plt.figure(figsize=(18,18))\n",
    "ax = plt.gca()\n",
    "ax.imshow(image)\n",
    "\n",
    "n = 0\n",
    "for i,result in enumerate(ssresults):\n",
    "    if i < 2000: \n",
    "        x,y,w,h = result\n",
    "        if w < 50 or h < 50:\n",
    "            continue\n",
    "        crop = imout[y:y+h,x:x+w]\n",
    "        resized = cv2.resize(crop, (IMG_SIZE,IMG_SIZE), interpolation = cv2.INTER_AREA)\n",
    "        # resized = np.array(resized)\n",
    "        resized_norm = (resized/256) - 0.5\n",
    "        im = np.expand_dims(resized_norm, axis=0)\n",
    "        layer_output = intermed_model(im)\n",
    "\n",
    "        svm_prob = clf.predict_proba(layer_output)\n",
    "        # print(svm_prob)\n",
    "        if svm_prob[0][1] > 0.999:\n",
    "            pil_img = Image.fromarray(resized)\n",
    "            pil_img.save(dest_dir + 'negative_' + str(n) +'.png')\n",
    "            n += 1\n",
    "            rect = Rectangle([x ,y], w, h, fill=False, \n",
    "                                color='red', lw=1) \n",
    "            ax.add_patch(rect)\n",
    "plt.show()"
   ]
  },
  {
   "cell_type": "code",
   "execution_count": null,
   "metadata": {},
   "outputs": [],
   "source": []
  }
 ],
 "metadata": {
  "kernelspec": {
   "display_name": "Python 3.6.9 64-bit",
   "language": "python",
   "name": "python36964bit8fa79bb1b4bc48969aa9ecc4887a538a"
  },
  "language_info": {
   "codemirror_mode": {
    "name": "ipython",
    "version": 3
   },
   "file_extension": ".py",
   "mimetype": "text/x-python",
   "name": "python",
   "nbconvert_exporter": "python",
   "pygments_lexer": "ipython3",
   "version": "3.6.9"
  }
 },
 "nbformat": 4,
 "nbformat_minor": 4
}
