{
 "cells": [
  {
   "cell_type": "code",
   "execution_count": 3,
   "metadata": {
    "tags": []
   },
   "outputs": [
    {
     "name": "stdout",
     "output_type": "stream",
     "text": [
      "Num GPUs Available:  1\n",
      "Model: \"model_1\"\n",
      "_________________________________________________________________\n",
      "Layer (type)                 Output Shape              Param #   \n",
      "=================================================================\n",
      "input_2 (InputLayer)         [(None, 120, 120, 3)]     0         \n",
      "_________________________________________________________________\n",
      "block1_conv1 (Conv2D)        (None, 120, 120, 64)      1792      \n",
      "_________________________________________________________________\n",
      "block1_conv2 (Conv2D)        (None, 120, 120, 64)      36928     \n",
      "_________________________________________________________________\n",
      "block1_pool (MaxPooling2D)   (None, 60, 60, 64)        0         \n",
      "_________________________________________________________________\n",
      "block2_conv1 (Conv2D)        (None, 60, 60, 128)       73856     \n",
      "_________________________________________________________________\n",
      "block2_conv2 (Conv2D)        (None, 60, 60, 128)       147584    \n",
      "_________________________________________________________________\n",
      "block2_pool (MaxPooling2D)   (None, 30, 30, 128)       0         \n",
      "_________________________________________________________________\n",
      "block3_conv1 (Conv2D)        (None, 30, 30, 256)       295168    \n",
      "_________________________________________________________________\n",
      "block3_conv2 (Conv2D)        (None, 30, 30, 256)       590080    \n",
      "_________________________________________________________________\n",
      "block3_conv3 (Conv2D)        (None, 30, 30, 256)       590080    \n",
      "_________________________________________________________________\n",
      "block3_pool (MaxPooling2D)   (None, 15, 15, 256)       0         \n",
      "_________________________________________________________________\n",
      "block4_conv1 (Conv2D)        (None, 15, 15, 512)       1180160   \n",
      "_________________________________________________________________\n",
      "block4_conv2 (Conv2D)        (None, 15, 15, 512)       2359808   \n",
      "_________________________________________________________________\n",
      "block4_conv3 (Conv2D)        (None, 15, 15, 512)       2359808   \n",
      "_________________________________________________________________\n",
      "block4_pool (MaxPooling2D)   (None, 7, 7, 512)         0         \n",
      "_________________________________________________________________\n",
      "block5_conv1 (Conv2D)        (None, 7, 7, 512)         2359808   \n",
      "_________________________________________________________________\n",
      "block5_conv2 (Conv2D)        (None, 7, 7, 512)         2359808   \n",
      "_________________________________________________________________\n",
      "block5_conv3 (Conv2D)        (None, 7, 7, 512)         2359808   \n",
      "_________________________________________________________________\n",
      "block5_pool (MaxPooling2D)   (None, 3, 3, 512)         0         \n",
      "_________________________________________________________________\n",
      "flatten (Flatten)            (None, 4608)              0         \n",
      "_________________________________________________________________\n",
      "fc1 (Dense)                  (None, 512)               2359808   \n",
      "_________________________________________________________________\n",
      "dropout (Dropout)            (None, 512)               0         \n",
      "=================================================================\n",
      "Total params: 17,074,496\n",
      "Trainable params: 17,074,496\n",
      "Non-trainable params: 0\n",
      "_________________________________________________________________\n"
     ]
    }
   ],
   "source": [
    "from keras.models import Model\n",
    "import numpy as np\n",
    "import matplotlib.image as mpimg\n",
    "from consts import *\n",
    "import glob\n",
    "from sklearn import svm\n",
    "from skimage import io\n",
    "from keras.applications import VGG16\n",
    "import tensorflow as tf\n",
    "from keras.layers import Dropout, Flatten, Dense\n",
    "\n",
    "print(\"Num GPUs Available: \", len(tf.config.experimental.list_physical_devices('GPU')))\n",
    "physical_devices = tf.config.experimental.list_physical_devices('GPU')\n",
    "assert len(physical_devices) > 0, \"Not enough GPU hardware devices available\"\n",
    "config = tf.config.experimental.set_memory_growth(physical_devices[0], True)\n",
    "\n",
    "input_shape = (IMG_SIZE, IMG_SIZE, depth)\n",
    "base_model = VGG16(weights='imagenet', include_top=False, input_shape=input_shape)\n",
    "\n",
    "last = base_model.layers[-1].output\n",
    "x = Flatten()(last)\n",
    "x = Dense(512, activation='relu', name='fc1')(x)\n",
    "x = Dropout(0.3)(x)\n",
    "x = Dense(2, activation='softmax', name='predictions')(x)\n",
    "model = Model(base_model.input, x)\n",
    "\n",
    "model.load_weights(weights_dir + 'cnn_' + str(CLASS_ID) + '.h5')\n",
    "train_path = base_path + 'images/cropped_resized/train/'\n",
    "test_path = base_path + 'images/cropped_resized/test/'\n",
    "\n",
    "\n",
    "train_vecs = []\n",
    "train_labels = []\n",
    "n = 0\n",
    "nmax = 100000\n",
    "\n",
    "intermed_model = Model(inputs=model.input,\n",
    "                   outputs=model.layers[-2].output)\n",
    "intermed_model.summary()"
   ]
  },
  {
   "cell_type": "code",
   "execution_count": 4,
   "metadata": {
    "tags": []
   },
   "outputs": [
    {
     "name": "stdout",
     "output_type": "stream",
     "text": [
      "(27070, 512)\n",
      "(27070,)\n"
     ]
    }
   ],
   "source": [
    "for filepath in glob.glob(train_path + '*.*'):\n",
    "    if n > nmax:\n",
    "        break\n",
    "    if USE_GREY:\n",
    "        im = io.imread(filepath, as_gray=USE_GREY)\n",
    "        im = np.expand_dims(im, axis=2)\n",
    "    else:\n",
    "        im = mpimg.imread(filepath)\n",
    "    im -= 0.5\n",
    "    im = np.expand_dims(im, axis=0)\n",
    "    layer_output = intermed_model(im)\n",
    "    train_vecs.append(layer_output[0])\n",
    "\n",
    "    if CLASS_NAMES[CLASS_ID] in filepath:\n",
    "        train_labels.append(1)\n",
    "    else:\n",
    "        train_labels.append(0)\n",
    "\n",
    "    n += 1\n",
    "\n",
    "\n",
    "train_vecs = np.array(train_vecs)\n",
    "train_labels = np.array(train_labels)\n",
    "print(train_vecs.shape)\n",
    "print(train_labels.shape)"
   ]
  },
  {
   "cell_type": "code",
   "execution_count": 5,
   "metadata": {},
   "outputs": [
    {
     "data": {
      "text/plain": [
       "SVC(kernel='linear', probability=True)"
      ]
     },
     "execution_count": 5,
     "metadata": {},
     "output_type": "execute_result"
    }
   ],
   "source": [
    "clf = svm.SVC(kernel='linear', probability=True)\n",
    "clf.fit(train_vecs, train_labels)"
   ]
  },
  {
   "cell_type": "code",
   "execution_count": 6,
   "metadata": {},
   "outputs": [
    {
     "data": {
      "text/plain": [
       "['./cuttlefish_data/weights/svm_0.joblib']"
      ]
     },
     "execution_count": 6,
     "metadata": {},
     "output_type": "execute_result"
    }
   ],
   "source": [
    "from joblib import dump, load\n",
    "# svm_weights_path = base_path + 'weights/svm_' + str(CLASS_ID) + '.joblib'\n",
    "\n",
    "dump(clf, svm_weights_path) \n",
    "# clf = load(svm_weights_path) "
   ]
  },
  {
   "cell_type": "code",
   "execution_count": 7,
   "metadata": {
    "tags": []
   },
   "outputs": [],
   "source": [
    "test_vecs = []\n",
    "test_labels = []\n",
    "n = 0\n",
    "nmax = 100000\n",
    "# test_path = base_path + 'images/rcnn_out/'\n",
    "\n",
    "for filepath in glob.glob(test_path + '*.*'):\n",
    "    if n > nmax:\n",
    "        break\n",
    "    if USE_GREY:\n",
    "        im = io.imread(filepath, as_gray=USE_GREY)\n",
    "        im = np.expand_dims(im, axis=2)\n",
    "    else:\n",
    "        im = mpimg.imread(filepath)\n",
    "    \n",
    "    im -= 0.5\n",
    "    im = np.expand_dims(im, axis=0)\n",
    "    \n",
    "    \n",
    "    layer_output = np.array(intermed_model(im))\n",
    "    \n",
    "    test_vecs.append(layer_output[0])\n",
    "\n",
    "    if CLASS_NAMES[CLASS_ID] in filepath:\n",
    "        test_labels.append(1)\n",
    "    else:\n",
    "        test_labels.append(0)\n",
    "    n += 1"
   ]
  },
  {
   "cell_type": "code",
   "execution_count": 8,
   "metadata": {},
   "outputs": [
    {
     "name": "stdout",
     "output_type": "stream",
     "text": [
      "39/3389\n"
     ]
    }
   ],
   "source": [
    "svm_preds = clf.predict(test_vecs)\n",
    "svm_probs = clf.predict_proba(test_vecs)\n",
    "# print(svm_probs)\n",
    "\n",
    "wrong_count = 0\n",
    "for svm_prob, true_label in zip(svm_probs, test_labels):\n",
    "    if svm_prob[1] > 0.5:\n",
    "        svm_guess = 1\n",
    "    else:\n",
    "        svm_guess = 0\n",
    "    if svm_guess != true_label:\n",
    "        wrong_count += 1\n",
    "print(str(wrong_count) + '/' + str(len(test_labels)))"
   ]
  },
  {
   "cell_type": "code",
   "execution_count": null,
   "metadata": {},
   "outputs": [],
   "source": []
  }
 ],
 "metadata": {
  "kernelspec": {
   "display_name": "Python 3.6.9 64-bit",
   "language": "python",
   "name": "python36964bit8fa79bb1b4bc48969aa9ecc4887a538a"
  },
  "language_info": {
   "codemirror_mode": {
    "name": "ipython",
    "version": 3
   },
   "file_extension": ".py",
   "mimetype": "text/x-python",
   "name": "python",
   "nbconvert_exporter": "python",
   "pygments_lexer": "ipython3",
   "version": "3.6.9"
  }
 },
 "nbformat": 4,
 "nbformat_minor": 4
}
