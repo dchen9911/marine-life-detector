{
 "metadata": {
  "language_info": {
   "codemirror_mode": {
    "name": "ipython",
    "version": 3
   },
   "file_extension": ".py",
   "mimetype": "text/x-python",
   "name": "python",
   "nbconvert_exporter": "python",
   "pygments_lexer": "ipython3",
   "version": "3.6.9-final"
  },
  "orig_nbformat": 2,
  "kernelspec": {
   "name": "python36964bit8fa79bb1b4bc48969aa9ecc4887a538a",
   "display_name": "Python 3.6.9 64-bit"
  }
 },
 "nbformat": 4,
 "nbformat_minor": 2,
 "cells": [
  {
   "cell_type": "code",
   "execution_count": 4,
   "metadata": {
    "tags": []
   },
   "outputs": [
    {
     "output_type": "stream",
     "name": "stdout",
     "text": "(14783, 512)\n"
    }
   ],
   "source": [
    "from CNN_model import model\n",
    "from keras.models import Model\n",
    "import numpy as np\n",
    "import matplotlib.image as mpimg\n",
    "from consts import *\n",
    "import glob\n",
    "from sklearn import svm\n",
    "\n",
    "model.load_weights(weights_dir + 'cnn_' + str(CLASS_ID) + '.h5')\n",
    "train_path = base_path + 'images/cropped_resized/train/'\n",
    "test_path = base_path + 'images/cropped_resized/test/'\n",
    "svm_weights_path = base_path + 'weights/svm_' + str(CLASS_ID) + '.joblib'\n",
    "\n",
    "train_vecs = []\n",
    "train_labels = []\n",
    "n = 0\n",
    "nmax = 100000\n",
    "\n",
    "intermed_model = Model(inputs=model.input,\n",
    "                   outputs=model.layers[-2].output)\n",
    "\n",
    "for filepath in glob.glob(train_path + '*.*'):\n",
    "    if n > nmax:\n",
    "        break\n",
    "    im = mpimg.imread(filepath)\n",
    "    im -= 0.5\n",
    "    im = np.expand_dims(im, axis=0)\n",
    "    layer_output = intermed_model(im)\n",
    "    train_vecs.append(layer_output[0])\n",
    "\n",
    "    if CLASS_NAMES[CLASS_ID] in filepath:\n",
    "        train_labels.append(1)\n",
    "    else:\n",
    "        train_labels.append(0)\n",
    "\n",
    "    n += 1\n",
    "\n",
    "\n",
    "train_vecs = np.array(train_vecs)\n",
    "print(train_vecs.shape)\n"
   ]
  },
  {
   "cell_type": "code",
   "execution_count": 5,
   "metadata": {},
   "outputs": [
    {
     "output_type": "execute_result",
     "data": {
      "text/plain": "SVC(kernel='linear', probability=True)"
     },
     "metadata": {},
     "execution_count": 5
    }
   ],
   "source": [
    "clf = svm.SVC(kernel='linear', probability=True)\n",
    "clf.fit(train_vecs, train_labels)"
   ]
  },
  {
   "cell_type": "code",
   "execution_count": 6,
   "metadata": {},
   "outputs": [
    {
     "output_type": "execute_result",
     "data": {
      "text/plain": "['./cuttlefish_data/weights/svm_0.joblib']"
     },
     "metadata": {},
     "execution_count": 6
    }
   ],
   "source": [
    "from joblib import dump, load\n",
    "dump(clf, svm_weights_path) "
   ]
  },
  {
   "cell_type": "code",
   "execution_count": 7,
   "metadata": {
    "tags": []
   },
   "outputs": [
    {
     "output_type": "stream",
     "name": "stdout",
     "text": "49/1851\n"
    }
   ],
   "source": [
    "test_vecs = []\n",
    "test_labels = []\n",
    "n = 0\n",
    "nmax = 100000\n",
    "for filepath in glob.glob(test_path + '*.*'):\n",
    "    if n > nmax:\n",
    "        break\n",
    "    im = mpimg.imread(filepath)\n",
    "    im -= 0.5\n",
    "    im = np.expand_dims(im, axis=0)\n",
    "    layer_output = intermed_model(im)\n",
    "    test_vecs.append(layer_output[0])\n",
    "\n",
    "    if CLASS_NAMES[CLASS_ID] in filepath:\n",
    "        test_labels.append(1)\n",
    "    else:\n",
    "        test_labels.append(0)\n",
    "    n += 1\n",
    "\n",
    "svm_preds = clf.predict(test_vecs)\n",
    "svm_probs = clf.predict_proba(test_vecs)\n",
    "\n",
    "# print(test_res)\n",
    "# print(test_labels)\n",
    "wrong_count = 0\n",
    "for svm_prob, true_label in zip(svm_probs, test_labels):\n",
    "    if svm_prob[1] > 0.7:\n",
    "        svm_guess = 1\n",
    "    else:\n",
    "        svm_guess = 0\n",
    "    if svm_guess != true_label:\n",
    "        wrong_count += 1\n",
    "print(str(wrong_count) + '/' + str(len(test_labels)))\n"
   ]
  },
  {
   "cell_type": "code",
   "execution_count": null,
   "metadata": {},
   "outputs": [],
   "source": []
  }
 ]
}